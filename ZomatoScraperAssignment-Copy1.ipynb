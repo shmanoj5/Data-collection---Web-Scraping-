{
 "cells": [
  {
   "cell_type": "markdown",
   "metadata": {},
   "source": [
    "Jakki Seshapanpu(PGID-11915005) \n",
    "Manoj Sharma(PGID-11915050) \n",
    "Utkarsh Agrawal(PGID-11915020)"
   ]
  },
  {
   "cell_type": "markdown",
   "metadata": {},
   "source": [
    "Task:\n",
    "1. Go to Zomato.com\n",
    "2. Use selenium to type in a search term, “Gachibowli”.\n",
    "3. After the search result being displayed, scrape the name, cuisines, cost, timings and collections of each restaurant on the page.\n",
    "4. Now navigate to each of the restaurant on the searched page and scrape the information.\n",
    "5. For each restaurant collect data of reviewer, review text, reviewer metadata (which includes number of reviews, number of followers and number of photos) and review time.\n",
    "6. Build a data frame containing the results as output(\"output_scraping.csv\")"
   ]
  },
  {
   "cell_type": "code",
   "execution_count": 1,
   "metadata": {},
   "outputs": [],
   "source": [
    "# Importing the libraries\n",
    "from selenium import webdriver\n",
    "from selenium.webdriver.common.by import By\n",
    "from selenium.webdriver.common.keys import Keys\n",
    "from selenium.webdriver.support.ui import WebDriverWait\n",
    "from selenium.webdriver.support import expected_conditions as EC\n",
    "from bs4 import BeautifulSoup\n",
    "from pandas import DataFrame\n",
    "\n",
    "import time\n",
    "import os\n",
    "import csv\n",
    "import numpy as np\n",
    "import pandas as pd\n",
    "import re"
   ]
  },
  {
   "cell_type": "code",
   "execution_count": 10,
   "metadata": {},
   "outputs": [],
   "source": [
    "#Invoking the Chrome-driver\n",
    "driver = webdriver.Chrome('F:/DC/data/chromedriver.exe')"
   ]
  },
  {
   "cell_type": "code",
   "execution_count": 11,
   "metadata": {},
   "outputs": [],
   "source": [
    "#Opening Zomato.com via selenium\n",
    "driver.get(\"http://www.zomato.com/hyderabad\") \n",
    "time.sleep(5)\n",
    "assert \"Zomato\" in driver.title "
   ]
  },
  {
   "cell_type": "code",
   "execution_count": 12,
   "metadata": {},
   "outputs": [],
   "source": [
    "# #Entering 'gachibowli' in search field to get list of restaurants in and around Gachibowli area\n",
    "elem = driver.find_element_by_css_selector(\"#keywords_input\")  \n",
    "elem.clear()   \n",
    "elem.send_keys(\"gachibowli\")    \n",
    "elem.send_keys(Keys.RETURN)    \n",
    "assert \"No results found.\" not in driver.page_source"
   ]
  },
  {
   "cell_type": "code",
   "execution_count": 13,
   "metadata": {},
   "outputs": [
    {
     "name": "stdout",
     "output_type": "stream",
     "text": [
      "Following are pages we will scrap...and add to collection\n",
      "['https://www.zomato.com/hyderabad/beyond-flavours-gachibowli', 'https://www.zomato.com/hyderabad/paradise-gachibowli', 'https://www.zomato.com/hyderabad/eat-fit-gachibowli', 'https://www.zomato.com/hyderabad/shah-ghouse-hotel-restaurant-gachibowli', 'https://www.zomato.com/hyderabad/the-fishermans-wharf-gachibowli', 'https://www.zomato.com/hyderabad/over-the-moon-brew-company-gachibowli', 'https://www.zomato.com/hyderabad/shah-ghouse-spl-shawarma-gachibowli', 'https://www.zomato.com/hyderabad/hyper-local-gachibowli', 'https://www.zomato.com/hyderabad/abs-absolute-barbecues-gachibowli', 'https://www.zomato.com/hyderabad/flechazo-gachibowli', 'https://www.zomato.com/hyderabad/absolute-sizzlers-gachibowli', 'https://www.zomato.com/hyderabad/cream-stone-gachibowli', 'https://www.zomato.com/hyderabad/sardarjis-chaats-more-gachibowli', 'https://www.zomato.com/hyderabad/the-lal-street-bar-exchange-gachibowli', 'https://www.zomato.com/hyderabad/10-downing-street-gachibowli', 'https://www.zomato.com/hyderabad/mustang-terrace-lounge-gachibowli', 'https://www.zomato.com/hyderabad/b-dubs-gachibowli', 'https://www.zomato.com/hyderabad/3bs-buddies-bar-barbecue-gachibowli', 'https://www.zomato.com/hyderabad/tiki-shack-gachibowli', 'https://www.zomato.com/hyderabad/norfest-the-dhaba-gachibowli', 'https://www.zomato.com/hyderabad/kfc-gachibowli', 'https://www.zomato.com/hyderabad/13-dhaba-gachibowli', 'https://www.zomato.com/hyderabad/hotel-zara-gachibowli', 'https://www.zomato.com/hyderabad/jonathans-kitchen-holiday-inn-express-suites-gachibowli', 'https://www.zomato.com/hyderabad/pakwaan-grand-gachibowli', 'https://www.zomato.com/hyderabad/mazzo-marriott-executive-apartments-gachibowli', 'https://www.zomato.com/hyderabad/marsala-food-company-gachibowli', 'https://www.zomato.com/hyderabad/amul-gachibowli', 'https://www.zomato.com/hyderabad/pot-pourri-gachibowli', 'https://www.zomato.com/hyderabad/club-rogue-gachibowli', 'https://www.zomato.com/hyderabad/hunger-maggi-point-gachibowli', 'https://www.zomato.com/hyderabad/pista-house-2-gachibowli', 'https://www.zomato.com/hyderabad/green-bawarchi-restaurant-gachibowli', 'https://www.zomato.com/hyderabad/frio-bistro-gachibowli', 'https://www.zomato.com/hyderabad/the-glass-onion-gachibowli', 'https://www.zomato.com/hyderabad/banana-leaf-multicuisine-restaurant-gachibowli', 'https://www.zomato.com/hyderabad/skyhy-gachibowli', 'https://www.zomato.com/hyderabad/kritunga-restaurant-gachibowli', 'https://www.zomato.com/hyderabad/deli-9-bistro-gachibowli', 'https://www.zomato.com/hyderabad/karachi-cafe-gachibowli', 'https://www.zomato.com/hyderabad/karachi-bakery-gachibowli', 'https://www.zomato.com/hyderabad/behrouz-biryani-gachibowli', 'https://www.zomato.com/hyderabad/owm-nom-nom-gachibowli', 'https://www.zomato.com/hyderabad/the-foodie-monster-kitchen-gachibowli', 'https://www.zomato.com/hyderabad/la-la-land-bar-kitchen-gachibowli', 'https://www.zomato.com/hyderabad/barbeque-nation-gachibowli', 'https://www.zomato.com/hyderabad/shanghai-chef-2-gachibowli', 'https://www.zomato.com/hyderabad/ulavacharu-gachibowli', 'https://www.zomato.com/hyderabad/cafe-eclat-gachibowli', 'https://www.zomato.com/hyderabad/the-wonton-gachibowli', 'https://www.zomato.com/hyderabad/mathura-vilas-gachibowli', 'https://www.zomato.com/hyderabad/udipis-upahar-gachibowli', 'https://www.zomato.com/hyderabad/biryanis-and-more-gachibowli', 'https://www.zomato.com/hyderabad/hitech-bawarchi-food-zone-gachibowli', 'https://www.zomato.com/hyderabad/pourhouse7-gachibowli', 'https://www.zomato.com/hyderabad/being-hungry-gachibowli', 'https://www.zomato.com/hyderabad/diners-pavilion-gachibowli', 'https://www.zomato.com/hyderabad/the-indi-grill-gachibowli', 'https://www.zomato.com/hyderabad/prism-club-kitchen-gachibowli', 'https://www.zomato.com/hyderabad/faasos-gachibowli', 'https://www.zomato.com/hyderabad/tempteys-gachibowli', 'https://www.zomato.com/hyderabad/shree-santosh-dhaba-family-restaurant-gachibowli', 'https://www.zomato.com/hyderabad/feast-sheraton-hyderabad-hotel-gachibowli', 'https://www.zomato.com/hyderabad/gal-punjab-di-gachibowli', 'https://www.zomato.com/hyderabad/asian-meal-box-gachibowli', 'https://www.zomato.com/hyderabad/ks-bakers-gachibowli', 'https://www.zomato.com/hyderabad/eat-india-company-gachibowli', 'https://www.zomato.com/thetiltbarrepublic', 'https://www.zomato.com/hyderabad/hyderabad-chefs-gachibowli', 'https://www.zomato.com/hyderabad/komatose-holiday-inn-express-suites-gachibowli', 'https://www.zomato.com/hyderabad/aromas11six-gachibowli', 'https://www.zomato.com/hyderabad/dine-o-china-gachibowli', 'https://www.zomato.com/hyderabad/the-old-madras-baking-company-gachibowli', 'https://www.zomato.com/hyderabad/labonel-gachibowli', 'https://www.zomato.com/hyderabad/urban-asia-kitchen-bar-gachibowli', 'https://www.zomato.com/hyderabad/american-wild-wings-gachibowli', 'https://www.zomato.com/hyderabad/royal-spicy-restaurant-gachibowli', 'https://www.zomato.com/hyderabad/driven-cafe-gachibowli', 'https://www.zomato.com/hyderabad/squeeze-the-lime-gachibowli', 'https://www.zomato.com/hyderabad/tandoori-food-works-gachibowli', 'https://www.zomato.com/hyderabad/khaan-saab-gachibowli', 'https://www.zomato.com/hyderabad/olive-garden-gachibowli', 'https://www.zomato.com/hyderabad/momos-delight-gachibowli', 'https://www.zomato.com/hyderabad/delhi-39-gachibowli', 'https://www.zomato.com/hyderabad/al-saba-restaurant-gachibowli', 'https://www.zomato.com/hyderabad/yum-yum-tree-the-arabian-food-court-gachibowli', 'https://www.zomato.com/hyderabad/gds-gachibowli', 'https://www.zomato.com/hyderabad/t-grill-gachibowli', 'https://www.zomato.com/hyderabad/arena-eleven-gachibowli', 'https://www.zomato.com/hyderabad/the-chocolate-room-gachibowli', 'https://www.zomato.com/hyderabad/dominos-pizza-4-gachibowli', 'https://www.zomato.com/hyderabad/mohammedia-shawarma-gachibowli', 'https://www.zomato.com/hyderabad/cascade-radisson-hyderabad-hitec-city-gachibowli', 'https://www.zomato.com/hyderabad/collage-hyatt-hyderabad-gachibowli-gachibowli', 'https://www.zomato.com/hyderabad/dunkin-donuts-gachibowli', 'https://www.zomato.com/hyderabad/zega-sheraton-hyderabad-hotel-gachibowli', 'https://www.zomato.com/hyderabad/desi-bytes-gachibowli', 'https://www.zomato.com/hyderabad/triptify-gachibowli', 'https://www.zomato.com/hyderabad/hyderabadi-daawat-1-gachibowli', 'https://www.zomato.com/hyderabad/chinese-pavilion-gachibowli', 'https://www.zomato.com/hyderabad/zings-northeast-kitchen-gachibowli', 'https://www.zomato.com/hyderabad/indiblaze-gachibowli', 'https://www.zomato.com/hyderabad/angaara-counts-3-gachibowli', 'https://www.zomato.com/hyderabad/sweet-basket-gachibowli', 'https://www.zomato.com/hyderabad/wich-please-1-gachibowli']\n"
     ]
    }
   ],
   "source": [
    "# #Collecting URL's for the restaurants from the search-pages (uptill page 7) == 105 Restaurants\n",
    "page = driver.current_url\n",
    "Zomato_pages =[]\n",
    "for j in range(1,8):\n",
    "    driver.get(page + \"&page=\" + str(j))\n",
    "    time.sleep(10)\n",
    "    soup_obj = BeautifulSoup(driver.page_source,\"lxml\")\n",
    "    title = soup_obj.find_all('a',class_='fontsize0')\n",
    "    Zomato_pages = Zomato_pages + [links1.get('href') for links1 in title]\n",
    "print(\"Following are pages we will scrap...and add to collection\")\n",
    "print(Zomato_pages)"
   ]
  },
  {
   "cell_type": "code",
   "execution_count": 14,
   "metadata": {},
   "outputs": [
    {
     "data": {
      "text/plain": [
       "198"
      ]
     },
     "execution_count": 14,
     "metadata": {},
     "output_type": "execute_result"
    }
   ],
   "source": [
    "# Creates a new .csv file that the scraped data will be written to\n",
    "csv_file = open('Zomato_reviews_test.csv', 'w', encoding=\"UTF-8\", newline=\"\")\n",
    "\n",
    "# Defining Writer and Column values for the CSV file\n",
    "writer = csv.writer(csv_file)\n",
    "writer.writerow(\n",
    "    ['Rest_Name', 'Rest_Cuisines','Rest_Cost_for_two','Rest_Cost_for_beer','Rest_Timings','Overall_ratings', 'Review_writer',\n",
    "      'review_date', 'reviewer_No_Photos','reviewer_metadata', 'customer_review_rating', 'customer_review_text'])"
   ]
  },
  {
   "cell_type": "code",
   "execution_count": null,
   "metadata": {},
   "outputs": [
    {
     "name": "stdout",
     "output_type": "stream",
     "text": [
      "========================================\n",
      "Scraping https://www.zomato.com/hyderabad/beyond-flavours-gachibowli\n",
      "successful click on All Reviews\n",
      "successful click on Load Reviews\n",
      "successful click on Load Reviews\n",
      "successful click on Load Reviews\n",
      "successful click on Load Reviews\n",
      "successful click on Load Reviews\n",
      "successful click on Load Reviews\n",
      "successful click on Load Reviews\n",
      "successful click on Load Reviews\n",
      "successful click on Load Reviews\n",
      "successful click on Load Reviews\n",
      "successful click on Load Reviews\n",
      "successful click on Load Reviews\n",
      "successful click on Load Reviews\n",
      "successful click on Load Reviews\n",
      "successful click on Load Reviews\n",
      "successful click on Load Reviews\n",
      "successful click on Load Reviews\n",
      "successful click on Load Reviews\n",
      "successful click on Load Reviews\n",
      "Total number of reviews collected.. 105\n",
      "========================================\n",
      "Scraping https://www.zomato.com/hyderabad/paradise-gachibowli\n",
      "successful click on All Reviews\n",
      "successful click on Load Reviews\n",
      "successful click on Load Reviews\n",
      "successful click on Load Reviews\n",
      "successful click on Load Reviews\n",
      "successful click on Load Reviews\n",
      "successful click on Load Reviews\n",
      "successful click on Load Reviews\n",
      "successful click on Load Reviews\n",
      "successful click on Load Reviews\n",
      "successful click on Load Reviews\n",
      "successful click on Load Reviews\n",
      "successful click on Load Reviews\n",
      "successful click on Load Reviews\n",
      "successful click on Load Reviews\n",
      "successful click on Load Reviews\n",
      "successful click on Load Reviews\n",
      "successful click on Load Reviews\n",
      "successful click on Load Reviews\n",
      "successful click on Load Reviews\n",
      "Total number of reviews collected.. 100\n",
      "========================================\n",
      "Scraping https://www.zomato.com/hyderabad/eat-fit-gachibowli\n",
      "successful click on All Reviews\n",
      "successful click on Load Reviews\n",
      "successful click on Load Reviews\n",
      "successful click on Load Reviews\n"
     ]
    }
   ],
   "source": [
    "#Outer for loop iterates through all the restaurants pages\n",
    "\n",
    "for page in Zomato_pages:\n",
    "    driver.get(page)\n",
    "    time.sleep(10)\n",
    "    try:\n",
    "        print(\"=\" * 40)  # Display the Restaurant page which is being scraped\n",
    "        print(\"Scraping \" + page) \n",
    "        # Click on All reviews link on the home-page for restaurant        \n",
    "        try:\n",
    "            elm = driver.find_element_by_xpath('//a[@data-sort=\"reviews-dd\"][contains(.,\"All Reviews\")]')\n",
    "            elm.click()\n",
    "            time.sleep(10)\n",
    "            print(\"successful click on All Reviews\")\n",
    "            for i in range(0,19):\n",
    "                load_reviews = driver.find_element_by_xpath(\n",
    "                    '//span[@class=\"zred\"][contains(.,\"Load More\")]')\n",
    "                load_reviews.location_once_scrolled_into_view\n",
    "                try:\n",
    "                    load_reviews.click()\n",
    "                    time.sleep(10)\n",
    "                    print(\"successful click on Load Reviews\")\n",
    "                except Exception as e:\n",
    "                    print(e)\n",
    "                    print(\"Unsuccessful click on Load Reviews\")\n",
    "        except Exception as e:\n",
    "            print(e)\n",
    "            print(\"Unsuccessful click on All Reviews\")\n",
    "        reviews = driver.find_elements_by_xpath(\n",
    "                         '//*[@id=\"reviews-container\"]//div [@data-snippet=\"restaurant-review\"]')\n",
    "        print(\"Total number of reviews collected..\", len(reviews))\n",
    "        for review in reviews:\n",
    "            review_dict = {}\n",
    "            try:\n",
    "                        Rest_Name = review.find_element_by_xpath('//div [@class=\"col-l-12\"]/h1').text\n",
    "            except:\n",
    "                        Rest_Name = page\n",
    "            try:\n",
    "                        Rest_Cuisines = review.find_element_by_xpath('//div[@class=\"res-info-cuisines clearfix\"]').text\n",
    "            except:\n",
    "                        Rest_Cuisines = \"\"\n",
    "            try:\n",
    "                        Rest_Cost_for_two = review.find_element_by_xpath(\n",
    "                            '//div[@class=\"res-info-detail\"]//span[@tabindex=\"0\"]').text\n",
    "                        Rest_Cost_for_two = re.sub('\\n|[a-z]|[).(â‚¹]','',Rest_Cost_for_two)\n",
    "            except:\n",
    "                        Rest_Cost_for_two = \"\"\n",
    "            try:\n",
    "                        Rest_Cost_for_beer = review.find_element_by_xpath(\n",
    "                            '//div[@class=\"mt5\"]//span[@class=\"\"]').text\n",
    "            except:\n",
    "                        Rest_Cost_for_beer = \"No Beer\"\n",
    "            try:\n",
    "                        Rest_Timings = review.find_element_by_xpath(\n",
    "                            '//div[@class=\"res-info-timings\"]//div[@class=\"medium\"]').text\n",
    "                        Rest_Timings = re.sub('\\n|[â€“]','-',Rest_Timings)\n",
    "            except:\n",
    "                        Rest_Timings = \"\"\n",
    "            try:\n",
    "                        Overall_ratings = review.find_element_by_xpath('//div [@class=\"col-l-4 tac left\"]//div[@tabindex=\"0\"]').text\n",
    "            except:\n",
    "                        Overall_ratings = \"\"\n",
    "            try:\n",
    "                        Review_writer = review.find_element_by_xpath(\n",
    "                            './/div[@class=\"header nowrap ui left\"]').text\n",
    "            except:\n",
    "                        Review_writer = \"\"\n",
    "            try:\n",
    "                        review_date = review.find_element_by_xpath(\n",
    "                            './/a[@class=\"grey-text\"]').text\n",
    "            except:\n",
    "                        review_date = \"\"\n",
    "            try:\n",
    "                        reviewer_metadata = review.find_element_by_xpath(\n",
    "                            './/span[@class=\"grey-text fontsize5 nowrap\"]').text\n",
    "            except:\n",
    "                        reviewer_metadata = \"\"\n",
    "            \n",
    "            try:\n",
    "                        reviewer_No_Photos = review.find_elements_by_xpath(\n",
    "                            './/img[@class=\"margin0 ui card image\"]')\n",
    "                        reviewer_No_Photos = len(reviewer_No_Photos)\n",
    "            except:\n",
    "                        reviewer_No_Photos = 0\n",
    "            try:\n",
    "                        customer_review_rating = review.find_element_by_xpath(\n",
    "                        './/div[contains(@class,\"rev-text \")]//div[contains(@class,\"ttupper\")]').get_attribute('aria-label')\n",
    "\n",
    "                        customer_review_text = review.find_element_by_xpath(\n",
    "                        './/div[contains(@class,\"rev-text \")]').text\n",
    "                        customer_review_text = re.sub('\\n|RATED','', customer_review_text)\n",
    "            except:\n",
    "                        customer_review_text = \"\"\n",
    "                        customer_review_rating = \"\"\n",
    "\n",
    "           # Write contents for dictionary to csv file\n",
    "            review_dict['Rest_Name'] = Rest_Name\n",
    "            review_dict['Rest_Cuisines'] = Rest_Cuisines\n",
    "            review_dict['Rest_Cost_for_two'] = Rest_Cost_for_two\n",
    "            review_dict['Rest_Cost_for_beer'] = Rest_Cost_for_beer\n",
    "            review_dict['Rest_Timings'] = Rest_Timings\n",
    "            review_dict['Overall_ratings'] = Overall_ratings\n",
    "            review_dict['Review_writer'] = Review_writer\n",
    "            review_dict['review_date'] = review_date\n",
    "            review_dict['reviewer_No_Photos'] = reviewer_No_Photos\n",
    "            review_dict['reviewer_metadata'] = reviewer_metadata\n",
    "            review_dict['customer_review_rating'] = customer_review_rating\n",
    "            review_dict['customer_review_text'] = customer_review_text       \n",
    "\n",
    "            writer.writerow(review_dict.values())\n",
    "    except Exception as e:\n",
    "        print(e)\n",
    "        csv_file.close()\n",
    "        driver.close()\n",
    "        break\n",
    "csv_file.close()\n",
    "driver.close()"
   ]
  }
 ],
 "metadata": {
  "kernelspec": {
   "display_name": "Python 3",
   "language": "python",
   "name": "python3"
  },
  "language_info": {
   "codemirror_mode": {
    "name": "ipython",
    "version": 3
   },
   "file_extension": ".py",
   "mimetype": "text/x-python",
   "name": "python",
   "nbconvert_exporter": "python",
   "pygments_lexer": "ipython3",
   "version": "3.7.1"
  }
 },
 "nbformat": 4,
 "nbformat_minor": 2
}
