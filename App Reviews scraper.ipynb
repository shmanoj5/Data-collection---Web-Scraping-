{
 "cells": [
  {
   "cell_type": "code",
   "execution_count": 1,
   "metadata": {},
   "outputs": [],
   "source": [
    "# Importing the libraries\n",
    "from selenium import webdriver\n",
    "from selenium.webdriver.common.by import By\n",
    "from selenium.webdriver.common.keys import Keys\n",
    "from selenium.webdriver.support.ui import WebDriverWait\n",
    "from selenium.webdriver.support import expected_conditions as EC\n",
    "from bs4 import BeautifulSoup\n",
    "from pandas import DataFrame\n",
    "from datetime import datetime\n",
    "\n",
    "import csv\n",
    "import time\n",
    "import os\n",
    "import numpy as np\n",
    "import pandas as pd\n",
    "import re"
   ]
  },
  {
   "cell_type": "code",
   "execution_count": 2,
   "metadata": {},
   "outputs": [],
   "source": [
    "#Invoking the Chrome-driver\n",
    "driver = webdriver.Chrome('F:/DC/data/chromedriver.exe')"
   ]
  },
  {
   "cell_type": "code",
   "execution_count": 3,
   "metadata": {},
   "outputs": [],
   "source": [
    "#Opening Zomato.com via selenium\n",
    "driver.get(\"https://play.google.com/store/apps/details?id=com.application.zomato\") \n",
    "time.sleep(5)"
   ]
  },
  {
   "cell_type": "markdown",
   "metadata": {},
   "source": [
    "Use selenium to type in a search term, “Gachibowli”."
   ]
  },
  {
   "cell_type": "markdown",
   "metadata": {},
   "source": [
    "Build a data frame containing the results as output(\"output_scraping.csv\")"
   ]
  },
  {
   "cell_type": "code",
   "execution_count": 4,
   "metadata": {},
   "outputs": [
    {
     "data": {
      "text/plain": [
       "70"
      ]
     },
     "execution_count": 4,
     "metadata": {},
     "output_type": "execute_result"
    }
   ],
   "source": [
    "# Creates a new .csv file that the scraped data will be written to\n",
    "csv_file = open('F:/DC/Zomato_App_review.csv', 'w', encoding=\"utf-8-sig\", newline=\"\")\n",
    "\n",
    "# Defining Writer and Column values for the CSV file\n",
    "writer = csv.writer(csv_file)\n",
    "writer.writerow(\n",
    "    ['Overall_rating','Total_reviews','Reviewer_rating', 'Review_Date','Review_text'])"
   ]
  },
  {
   "cell_type": "markdown",
   "metadata": {},
   "source": [
    "After the search result are displayed, scrape the name, cuisines, cost, timings and collections of each restaurant on the page.\n",
    "Now navigate to each of the restaurant on the searched page and scrape the information.\n",
    "For each restaurant collect data of reviewer, review text, reviewer metadata (which includes number of reviews, number of followers and number of photos) and review time."
   ]
  },
  {
   "cell_type": "code",
   "execution_count": null,
   "metadata": {},
   "outputs": [
    {
     "name": "stdout",
     "output_type": "stream",
     "text": [
      "Zomato App data Scraping started at:  2019-06-29 08:20:57.629429\n",
      "Total number of reviews collected.. 16204\n"
     ]
    }
   ],
   "source": [
    "start_time = datetime.now()\n",
    "print(\"Zomato App data Scraping started at: \",start_time)\n",
    "\n",
    "elm = driver.find_element_by_xpath(\"//span[@class='RveJvd snByac'][contains(.,'Read All Reviews')]\")\n",
    "elm.location_once_scrolled_into_view\n",
    "elm.click()\n",
    "time.sleep(10)\n",
    "\n",
    "scrolls = 6\n",
    "while True:\n",
    "    scrolls -= 1\n",
    "    driver.execute_script(\"window.scrollTo(0, document.body.scrollHeight)\")\n",
    "    time.sleep(2)\n",
    "    if scrolls < 0:\n",
    "        break\n",
    "\n",
    "for i in range(0,100):\n",
    "    driver.implicitly_wait(10)\n",
    "    element = driver.find_element_by_xpath('//div[@class=\"PFAhAf\"]//div[@role=\"button\"]')\n",
    "    element.location_once_scrolled_into_view\n",
    "    driver.execute_script(\"arguments[0].click();\", element)\n",
    "\n",
    "    scrolls = 6\n",
    "    while True:\n",
    "        scrolls -= 1\n",
    "        driver.execute_script(\"window.scrollTo(0, document.body.scrollHeight)\")\n",
    "        time.sleep(2)\n",
    "        if scrolls < 0:\n",
    "            break\n",
    "\n",
    "reviews = driver.find_elements_by_xpath('//div[@class=\"d15Mdf bAhLNe\"]')\n",
    "print(\"Total number of reviews collected..\", len(reviews))\n",
    "\n",
    "for review in reviews:\n",
    "    review_dict = {}\n",
    "    try:\n",
    "                        Overall_rating = review.find_element_by_xpath('//div[@class=\"BHMmbe\"]').text\n",
    "    except:\n",
    "                        Overall_rating = \"\"\n",
    "    try:\n",
    "                        Total_reviews = review.find_element_by_xpath('//span[@class=\"EymY4b\"]//span[2]').text\n",
    "    except:\n",
    "                        Total_reviews = \"\"\n",
    "            \n",
    "    try:\n",
    "                        Review_Date = review.find_element_by_xpath(\n",
    "                            './/div[@class=\"bAhLNe kx8XBd\"]//span[contains(@class,\"p2TkOb\")]').text                       \n",
    "    except:\n",
    "                        Review_Date = \"\"\n",
    "                    \n",
    "    try:\n",
    "                        Review_text = review.find_element_by_xpath('.//span[@jsname=\"bN97Pc\"]').text\n",
    "    except:\n",
    "                        Review_text = \"\"     \n",
    "            \n",
    "            \n",
    "    review_dict['Overall_rating'] = Overall_rating\n",
    "    review_dict['Total_reviews'] = Total_reviews\n",
    "    review_dict['Review_Date'] = Review_Date\n",
    "    review_dict['Review_text'] = Review_text\n",
    "\n",
    "    writer.writerow(review_dict.values())\n",
    "\n",
    "csv_file.close()\n",
    "driver.close()"
   ]
  },
  {
   "cell_type": "code",
   "execution_count": null,
   "metadata": {},
   "outputs": [],
   "source": [
    "#Invoking the Chrome-driver\n",
    "driver = webdriver.Chrome('F:/DC/data/chromedriver.exe')"
   ]
  },
  {
   "cell_type": "code",
   "execution_count": null,
   "metadata": {},
   "outputs": [],
   "source": [
    "#Opening Zomato.com via selenium\n",
    "driver.get(\"https://play.google.com/store/apps/details?id=in.swiggy.android\") \n",
    "time.sleep(5)"
   ]
  },
  {
   "cell_type": "code",
   "execution_count": null,
   "metadata": {},
   "outputs": [],
   "source": [
    "# Creates a new .csv file that the scraped data will be written to\n",
    "csv_file = open('F:/DC/Swiggy_App_review.csv', 'w', encoding=\"utf-8-sig\", newline=\"\")\n",
    "\n",
    "# Defining Writer and Column values for the CSV file\n",
    "writer = csv.writer(csv_file)\n",
    "writer.writerow(\n",
    "    ['Overall_rating','Total_reviews','Reviewer_rating', 'Review_Date','Review_text'])"
   ]
  },
  {
   "cell_type": "code",
   "execution_count": null,
   "metadata": {},
   "outputs": [],
   "source": [
    "start_time = datetime.now()\n",
    "print(\"Swiggy App data Scraping started at: \",start_time)\n",
    "\n",
    "elm = driver.find_element_by_xpath(\"//span[@class='RveJvd snByac'][contains(.,'Read All Reviews')]\")\n",
    "elm.location_once_scrolled_into_view\n",
    "elm.click()\n",
    "time.sleep(10)\n",
    "\n",
    "scrolls = 6\n",
    "while True:\n",
    "    scrolls -= 1\n",
    "    driver.execute_script(\"window.scrollTo(0, document.body.scrollHeight)\")\n",
    "    time.sleep(2)\n",
    "    if scrolls < 0:\n",
    "        break\n",
    "\n",
    "for i in range(0,10):\n",
    "    driver.implicitly_wait(10)\n",
    "    element = driver.find_element_by_xpath('//div[@class=\"PFAhAf\"]//div[@role=\"button\"]')\n",
    "    element.location_once_scrolled_into_view\n",
    "    driver.execute_script(\"arguments[0].click();\", element)\n",
    "\n",
    "    scrolls = 6\n",
    "    while True:\n",
    "        scrolls -= 1\n",
    "        driver.execute_script(\"window.scrollTo(0, document.body.scrollHeight)\")\n",
    "        time.sleep(2)\n",
    "        if scrolls < 0:\n",
    "            break\n",
    "\n",
    "\n",
    "reviews = driver.find_elements_by_xpath('//div[@class=\"d15Mdf bAhLNe\"]')\n",
    "print(\"Total number of reviews collected..\", len(reviews))\n",
    "\n",
    "for review in reviews:\n",
    "    review_dict = {}\n",
    "    try:\n",
    "                        Overall_rating = review.find_element_by_xpath('//div[@class=\"BHMmbe\"]').text\n",
    "    except:\n",
    "                        Overall_rating = \"\"\n",
    "    try:\n",
    "                        Total_reviews = review.find_element_by_xpath('//span[@class=\"EymY4b\"]//span[2]').text\n",
    "    except:\n",
    "                        Total_reviews = \"\"\n",
    "            \n",
    "    try:\n",
    "                        Review_Date = review.find_element_by_xpath(\n",
    "                            './/div[@class=\"bAhLNe kx8XBd\"]//span[contains(@class,\"p2TkOb\")]').text                       \n",
    "    except:\n",
    "                        Review_Date = \"\"\n",
    "                    \n",
    "    try:\n",
    "                        Review_text = review.find_element_by_xpath('.//span[@jsname=\"bN97Pc\"]').text\n",
    "    except:\n",
    "                        Review_text = \"\"     \n",
    "            \n",
    "            \n",
    "    review_dict['Overall_rating'] = Overall_rating\n",
    "    review_dict['Total_reviews'] = Total_reviews\n",
    "    review_dict['Review_Date'] = Review_Date\n",
    "    review_dict['Review_text'] = Review_text\n",
    "\n",
    "    writer.writerow(review_dict.values())\n",
    "\n",
    "csv_file.close()\n",
    "driver.close()"
   ]
  }
 ],
 "metadata": {
  "kernelspec": {
   "display_name": "Python 3",
   "language": "python",
   "name": "python3"
  },
  "language_info": {
   "codemirror_mode": {
    "name": "ipython",
    "version": 3
   },
   "file_extension": ".py",
   "mimetype": "text/x-python",
   "name": "python",
   "nbconvert_exporter": "python",
   "pygments_lexer": "ipython3",
   "version": "3.7.1"
  }
 },
 "nbformat": 4,
 "nbformat_minor": 2
}
