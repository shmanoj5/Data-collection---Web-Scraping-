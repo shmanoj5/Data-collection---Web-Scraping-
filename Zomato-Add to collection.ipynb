{
 "cells": [
  {
   "cell_type": "code",
   "execution_count": 2,
   "metadata": {},
   "outputs": [
    {
     "ename": "NameError",
     "evalue": "name 'Zomato_pages' is not defined",
     "output_type": "error",
     "traceback": [
      "\u001b[1;31m---------------------------------------------------------------------------\u001b[0m",
      "\u001b[1;31mNameError\u001b[0m                                 Traceback (most recent call last)",
      "\u001b[1;32m<ipython-input-2-02685c12624d>\u001b[0m in \u001b[0;36m<module>\u001b[1;34m\u001b[0m\n\u001b[0;32m      1\u001b[0m \u001b[1;32mfrom\u001b[0m \u001b[0mselenium\u001b[0m \u001b[1;32mimport\u001b[0m \u001b[0mwebdriver\u001b[0m\u001b[1;33m\u001b[0m\u001b[1;33m\u001b[0m\u001b[0m\n\u001b[0;32m      2\u001b[0m \u001b[0mdriver\u001b[0m \u001b[1;33m=\u001b[0m \u001b[0mwebdriver\u001b[0m\u001b[1;33m.\u001b[0m\u001b[0mChrome\u001b[0m\u001b[1;33m(\u001b[0m\u001b[1;34m'F:/DC/data/chromedriver.exe'\u001b[0m\u001b[1;33m)\u001b[0m\u001b[1;33m\u001b[0m\u001b[1;33m\u001b[0m\u001b[0m\n\u001b[1;32m----> 3\u001b[1;33m \u001b[1;32mfor\u001b[0m \u001b[0mpage\u001b[0m \u001b[1;32min\u001b[0m \u001b[0mZomato_pages\u001b[0m\u001b[1;33m:\u001b[0m\u001b[1;33m\u001b[0m\u001b[1;33m\u001b[0m\u001b[0m\n\u001b[0m\u001b[0;32m      4\u001b[0m     \u001b[0mdriver\u001b[0m\u001b[1;33m.\u001b[0m\u001b[0mget\u001b[0m\u001b[1;33m(\u001b[0m\u001b[0mpage\u001b[0m\u001b[1;33m)\u001b[0m\u001b[1;33m\u001b[0m\u001b[1;33m\u001b[0m\u001b[0m\n\u001b[0;32m      5\u001b[0m     \u001b[0mtime\u001b[0m\u001b[1;33m.\u001b[0m\u001b[0msleep\u001b[0m\u001b[1;33m(\u001b[0m\u001b[1;36m10\u001b[0m\u001b[1;33m)\u001b[0m\u001b[1;33m\u001b[0m\u001b[1;33m\u001b[0m\u001b[0m\n",
      "\u001b[1;31mNameError\u001b[0m: name 'Zomato_pages' is not defined"
     ]
    }
   ],
   "source": [
    "from selenium import webdriver\n",
    "driver = webdriver.Chrome('F:/DC/data/chromedriver.exe')\n",
    "for page in Zomato_pages:\n",
    "    driver.get(page)\n",
    "    time.sleep(10)\n",
    "    main_page = driver.current_window_handle \n",
    "    elem = driver.find_element_by_xpath('//div[@id=\"res-page-add-user-collection\"]//span[@class=\"text\"]')\n",
    "    elem.click()\n",
    "    time.sleep(5)\n",
    "    google = driver.find_element_by_xpath('//a[contains(.,\"Continue with Google\")]')\n",
    "    google.click()\n",
    "    for handle in driver.window_handles: \n",
    "        if handle != main_page: \n",
    "            login_page = handle\n",
    "    driver.switch_to.window(login_page)\n",
    "    ################################################################################################\n",
    "    ############# Need to add your user's gmail login email in send_keys below #####################\n",
    "    ################################################################################################\n",
    "    driver.find_element_by_xpath('//input[@type=\"email\"]').send_keys('')\n",
    "    driver.find_element_by_xpath('//div[@id=\"identifierNext\"]').click() \n",
    "    time.sleep(2)\n",
    "    ################################################################################################\n",
    "    ############# Need to add your user's password in send_keys below          #####################\n",
    "    ################################################################################################\n",
    "    driver.find_element_by_xpath('//input[@type=\"password\"]').send_keys('')\n",
    "    driver.find_element_by_xpath('//div[@id=\"passwordNext\"]').click()\n",
    "    driver.switch_to.window(main_page)\n",
    "    time.sleep(5)\n",
    "    elem = driver.find_element_by_xpath('//div[@id=\"res-page-add-user-collection\"]//span[@class=\"text\"]')\n",
    "    elem.click()\n",
    "    time.sleep(10)\n",
    "    newcollection = driver.find_element_by_xpath('//span[contains(.,\"Create a new collection\")]')\n",
    "    newcollection.click()\n",
    "    time.sleep(5)\n",
    "    driver.find_element_by_xpath('//input[@id=\"user-collection-name\"]').send_keys('Gachibowli Top Restaurants')\n",
    "    driver.find_element_by_xpath('//span[contains(.,\"Add restaurants\")]').click()\n",
    "    for handle in driver.window_handles:\n",
    "        if handle != main_page:\n",
    "            add_page = handle\n",
    "    time.sleep(5)\n",
    "#    driver.switch_to.window(add_page)//span[contains(.,'Add restaurants')]\n",
    "#    driver.find_element_by_xpath('//a[@id=\"existing-collections-of-restaurant\"]').click()\n",
    "#    time.sleep(5)\n",
    "    driver.find_element_by_xpath('//div[@id=\"user-create-collection\"]').click()\n",
    "#     driver.find_element_by_xpath('//div[@class=\"collection_name\"]').click()\n",
    "#     driver.find_element_by_xpath('//div[@class=\"all-my-collections-list\"]//a').click()\n",
    "#     driver.find_element_by_xpath('//*[@id=\"res-page-add-res-to-collection\"]').click()"
   ]
  }
 ],
 "metadata": {
  "kernelspec": {
   "display_name": "Python 3",
   "language": "python",
   "name": "python3"
  },
  "language_info": {
   "codemirror_mode": {
    "name": "ipython",
    "version": 3
   },
   "file_extension": ".py",
   "mimetype": "text/x-python",
   "name": "python",
   "nbconvert_exporter": "python",
   "pygments_lexer": "ipython3",
   "version": "3.7.1"
  }
 },
 "nbformat": 4,
 "nbformat_minor": 2
}
